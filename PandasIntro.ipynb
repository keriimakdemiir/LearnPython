{
 "cells": [
  {
   "cell_type": "code",
   "execution_count": 1,
   "id": "a0d0bf0c",
   "metadata": {},
   "outputs": [
    {
     "name": "stdout",
     "output_type": "stream",
     "text": [
      "Retrieving notices: ...working... done\n",
      "Collecting package metadata (current_repodata.json): ...working... done\n",
      "Solving environment: ...working... done\n",
      "\n",
      "## Package Plan ##\n",
      "\n",
      "  environment location: C:\\Users\\kerim\\anaconda3\n",
      "\n",
      "  added / updated specs:\n",
      "    - pandas\n",
      "\n",
      "\n",
      "The following packages will be downloaded:\n",
      "\n",
      "    package                    |            build\n",
      "    ---------------------------|-----------------\n",
      "    certifi-2023.11.17         |  py310haa95532_0         159 KB\n",
      "    pandas-2.1.1               |  py310h4ed8f06_0        11.0 MB\n",
      "    python-tzdata-2023.3       |     pyhd3eb1b0_0         140 KB\n",
      "    ------------------------------------------------------------\n",
      "                                           Total:        11.3 MB\n",
      "\n",
      "The following NEW packages will be INSTALLED:\n",
      "\n",
      "  python-tzdata      pkgs/main/noarch::python-tzdata-2023.3-pyhd3eb1b0_0 \n",
      "\n",
      "The following packages will be UPDATED:\n",
      "\n",
      "  certifi                         2023.7.22-py310haa95532_0 --> 2023.11.17-py310haa95532_0 \n",
      "  pandas                              1.5.3-py310h4ed8f06_0 --> 2.1.1-py310h4ed8f06_0 \n",
      "\n",
      "\n",
      "\n",
      "Downloading and Extracting Packages\n",
      "\n",
      "pandas-2.1.1         | 11.0 MB   |            |   0% \n",
      "\n",
      "certifi-2023.11.17   | 159 KB    |            |   0% \u001b[A\n",
      "\n",
      "\n",
      "python-tzdata-2023.3 | 140 KB    |            |   0% \u001b[A\u001b[A\n",
      "pandas-2.1.1         | 11.0 MB   |            |   0% \n",
      "\n",
      "certifi-2023.11.17   | 159 KB    | #          |  10% \u001b[A\n",
      "pandas-2.1.1         | 11.0 MB   |            |   1% \n",
      "\n",
      "certifi-2023.11.17   | 159 KB    | #####      |  50% \u001b[A\n",
      "pandas-2.1.1         | 11.0 MB   | 1          |   2% \n",
      "pandas-2.1.1         | 11.0 MB   | 2          |   3% \n",
      "\n",
      "\n",
      "python-tzdata-2023.3 | 140 KB    | #1         |  11% \u001b[A\u001b[A\n",
      "\n",
      "certifi-2023.11.17   | 159 KB    | ########## | 100% \u001b[A\n",
      "\n",
      "certifi-2023.11.17   | 159 KB    | ########## | 100% \u001b[A\n",
      "pandas-2.1.1         | 11.0 MB   | 4          |   5% \n",
      "\n",
      "\n",
      "python-tzdata-2023.3 | 140 KB    | ###4       |  34% \u001b[A\u001b[A\n",
      "pandas-2.1.1         | 11.0 MB   | 6          |   6% \n",
      "\n",
      "\n",
      "python-tzdata-2023.3 | 140 KB    | ####5      |  46% \u001b[A\u001b[A\n",
      "pandas-2.1.1         | 11.0 MB   | 7          |   8% \n",
      "pandas-2.1.1         | 11.0 MB   | 9          |   9% \n",
      "pandas-2.1.1         | 11.0 MB   | #          |  11% \n",
      "pandas-2.1.1         | 11.0 MB   | #2         |  13% \n",
      "pandas-2.1.1         | 11.0 MB   | #4         |  14% \n",
      "pandas-2.1.1         | 11.0 MB   | #6         |  16% \n",
      "pandas-2.1.1         | 11.0 MB   | #7         |  18% \n",
      "pandas-2.1.1         | 11.0 MB   | ##         |  20% \n",
      "pandas-2.1.1         | 11.0 MB   | ##2        |  22% \n",
      "pandas-2.1.1         | 11.0 MB   | ##5        |  26% \n",
      "pandas-2.1.1         | 11.0 MB   | ##8        |  28% \n",
      "pandas-2.1.1         | 11.0 MB   | ###        |  30% \n",
      "pandas-2.1.1         | 11.0 MB   | ###2       |  32% \n",
      "pandas-2.1.1         | 11.0 MB   | ###4       |  34% \n",
      "pandas-2.1.1         | 11.0 MB   | ###6       |  36% \n",
      "pandas-2.1.1         | 11.0 MB   | ###7       |  38% \n",
      "\n",
      "\n",
      "python-tzdata-2023.3 | 140 KB    | ########## | 100% \u001b[A\u001b[A\n",
      "\n",
      "\n",
      "python-tzdata-2023.3 | 140 KB    | ########## | 100% \u001b[A\u001b[A\n",
      "pandas-2.1.1         | 11.0 MB   | ####       |  41% \n",
      "pandas-2.1.1         | 11.0 MB   | ####2      |  43% \n",
      "pandas-2.1.1         | 11.0 MB   | ####4      |  44% \n",
      "pandas-2.1.1         | 11.0 MB   | ####6      |  47% \n",
      "pandas-2.1.1         | 11.0 MB   | ####8      |  49% \n",
      "pandas-2.1.1         | 11.0 MB   | #####      |  51% \n",
      "pandas-2.1.1         | 11.0 MB   | #####3     |  53% \n",
      "pandas-2.1.1         | 11.0 MB   | #####4     |  55% \n",
      "pandas-2.1.1         | 11.0 MB   | #####6     |  57% \n",
      "pandas-2.1.1         | 11.0 MB   | #####8     |  58% \n",
      "pandas-2.1.1         | 11.0 MB   | ######     |  60% \n",
      "pandas-2.1.1         | 11.0 MB   | ######1    |  62% \n",
      "pandas-2.1.1         | 11.0 MB   | ######3    |  64% \n",
      "pandas-2.1.1         | 11.0 MB   | ######5    |  66% \n",
      "pandas-2.1.1         | 11.0 MB   | ######8    |  68% \n",
      "pandas-2.1.1         | 11.0 MB   | #######    |  70% \n",
      "pandas-2.1.1         | 11.0 MB   | #######1   |  72% \n",
      "pandas-2.1.1         | 11.0 MB   | #######4   |  75% \n",
      "pandas-2.1.1         | 11.0 MB   | #######6   |  77% \n",
      "pandas-2.1.1         | 11.0 MB   | #######9   |  80% \n",
      "pandas-2.1.1         | 11.0 MB   | ########1  |  82% \n",
      "pandas-2.1.1         | 11.0 MB   | ########4  |  84% \n",
      "pandas-2.1.1         | 11.0 MB   | ########6  |  86% \n",
      "pandas-2.1.1         | 11.0 MB   | ########8  |  88% \n",
      "pandas-2.1.1         | 11.0 MB   | #########  |  91% \n",
      "pandas-2.1.1         | 11.0 MB   | #########2 |  93% \n",
      "pandas-2.1.1         | 11.0 MB   | #########4 |  95% \n",
      "pandas-2.1.1         | 11.0 MB   | #########6 |  96% \n",
      "pandas-2.1.1         | 11.0 MB   | #########7 |  98% \n",
      "pandas-2.1.1         | 11.0 MB   | ########## | 100% \n",
      "pandas-2.1.1         | 11.0 MB   | ########## | 100% \n",
      "                                                     \n",
      "\n",
      "\n",
      "                                                     \u001b[A\n",
      "\n",
      "\n",
      "                                                     \u001b[A\u001b[A\n",
      "\n",
      "Preparing transaction: ...working... done\n",
      "Verifying transaction: ...working... done\n",
      "Executing transaction: ...working... done\n",
      "\n",
      "Note: you may need to restart the kernel to use updated packages.\n"
     ]
    },
    {
     "name": "stderr",
     "output_type": "stream",
     "text": [
      "\n",
      "\n",
      "==> WARNING: A newer version of conda exists. <==\n",
      "  current version: 23.3.1\n",
      "  latest version: 23.10.0\n",
      "\n",
      "Please update conda by running\n",
      "\n",
      "    $ conda update -n base -c defaults conda\n",
      "\n",
      "Or to minimize the number of packages updated during conda update use\n",
      "\n",
      "     conda install conda=23.10.0\n",
      "\n",
      "\n"
     ]
    }
   ],
   "source": [
    "conda install pandas"
   ]
  },
  {
   "cell_type": "code",
   "execution_count": 2,
   "id": "6b9f01fd",
   "metadata": {},
   "outputs": [],
   "source": [
    "import pandas as pd\n",
    "import numpy as np"
   ]
  },
  {
   "cell_type": "code",
   "execution_count": 3,
   "id": "928a8a90",
   "metadata": {},
   "outputs": [],
   "source": [
    "#series"
   ]
  },
  {
   "cell_type": "code",
   "execution_count": 4,
   "id": "47678a59",
   "metadata": {},
   "outputs": [],
   "source": [
    "my_dict = {\"James\": 50, \"Lars\": 60, \"Kirk\": 55, \"Rob\": 65}"
   ]
  },
  {
   "cell_type": "code",
   "execution_count": 5,
   "id": "546565d1",
   "metadata": {},
   "outputs": [
    {
     "data": {
      "text/plain": [
       "James    50\n",
       "Lars     60\n",
       "Kirk     55\n",
       "Rob      65\n",
       "dtype: int64"
      ]
     },
     "execution_count": 5,
     "metadata": {},
     "output_type": "execute_result"
    }
   ],
   "source": [
    "pd.Series(my_dict)"
   ]
  },
  {
   "cell_type": "code",
   "execution_count": 6,
   "id": "b365ddcd",
   "metadata": {},
   "outputs": [],
   "source": [
    "age_list = [50,60,55,65]\n",
    "name_list = [\"James\", \"Lars\", \"Kirk\", \"Rob\"]"
   ]
  },
  {
   "cell_type": "code",
   "execution_count": 8,
   "id": "aebd70f4",
   "metadata": {},
   "outputs": [
    {
     "data": {
      "text/plain": [
       "James    50\n",
       "Lars     60\n",
       "Kirk     55\n",
       "Rob      65\n",
       "dtype: int64"
      ]
     },
     "execution_count": 8,
     "metadata": {},
     "output_type": "execute_result"
    }
   ],
   "source": [
    "pd.Series(data=age_list, index=name_list)"
   ]
  },
  {
   "cell_type": "code",
   "execution_count": 9,
   "id": "7661cc96",
   "metadata": {},
   "outputs": [],
   "source": [
    "numpy_array = np.arange(0,8)"
   ]
  },
  {
   "cell_type": "code",
   "execution_count": 10,
   "id": "25a1844d",
   "metadata": {},
   "outputs": [
    {
     "data": {
      "text/plain": [
       "array([0, 1, 2, 3, 4, 5, 6, 7])"
      ]
     },
     "execution_count": 10,
     "metadata": {},
     "output_type": "execute_result"
    }
   ],
   "source": [
    "numpy_array"
   ]
  },
  {
   "cell_type": "code",
   "execution_count": 11,
   "id": "eb298f9b",
   "metadata": {},
   "outputs": [
    {
     "data": {
      "text/plain": [
       "0    0\n",
       "1    1\n",
       "2    2\n",
       "3    3\n",
       "4    4\n",
       "5    5\n",
       "6    6\n",
       "7    7\n",
       "dtype: int32"
      ]
     },
     "execution_count": 11,
     "metadata": {},
     "output_type": "execute_result"
    }
   ],
   "source": [
    "pd.Series(numpy_array)"
   ]
  },
  {
   "cell_type": "code",
   "execution_count": 13,
   "id": "6c693ec5",
   "metadata": {},
   "outputs": [],
   "source": [
    "new_numpy_array = np.array([10,20,30,40])"
   ]
  },
  {
   "cell_type": "code",
   "execution_count": 15,
   "id": "28fc2a51",
   "metadata": {},
   "outputs": [
    {
     "data": {
      "text/plain": [
       "0    10\n",
       "1    20\n",
       "2    30\n",
       "3    40\n",
       "dtype: int32"
      ]
     },
     "execution_count": 15,
     "metadata": {},
     "output_type": "execute_result"
    }
   ],
   "source": [
    "pd.Series(new_numpy_array)"
   ]
  },
  {
   "cell_type": "code",
   "execution_count": 16,
   "id": "bcd8920b",
   "metadata": {},
   "outputs": [
    {
     "data": {
      "text/plain": [
       "array([10, 20, 30, 40])"
      ]
     },
     "execution_count": 16,
     "metadata": {},
     "output_type": "execute_result"
    }
   ],
   "source": [
    "new_numpy_array"
   ]
  },
  {
   "cell_type": "code",
   "execution_count": 17,
   "id": "f96bd3d5",
   "metadata": {},
   "outputs": [
    {
     "data": {
      "text/plain": [
       "['James', 'Lars', 'Kirk', 'Rob']"
      ]
     },
     "execution_count": 17,
     "metadata": {},
     "output_type": "execute_result"
    }
   ],
   "source": [
    "name_list"
   ]
  },
  {
   "cell_type": "code",
   "execution_count": 19,
   "id": "1c3ece9a",
   "metadata": {},
   "outputs": [
    {
     "data": {
      "text/plain": [
       "James    10\n",
       "Lars     20\n",
       "Kirk     30\n",
       "Rob      40\n",
       "dtype: int32"
      ]
     },
     "execution_count": 19,
     "metadata": {},
     "output_type": "execute_result"
    }
   ],
   "source": [
    "pd.Series(data=new_numpy_array, index=name_list)"
   ]
  },
  {
   "cell_type": "code",
   "execution_count": 20,
   "id": "8893f1f9",
   "metadata": {},
   "outputs": [],
   "source": [
    "my_series = pd.Series(data=new_numpy_array, index=name_list)"
   ]
  },
  {
   "cell_type": "code",
   "execution_count": 21,
   "id": "5670131a",
   "metadata": {},
   "outputs": [
    {
     "data": {
      "text/plain": [
       "James    10\n",
       "Lars     20\n",
       "Kirk     30\n",
       "Rob      40\n",
       "dtype: int32"
      ]
     },
     "execution_count": 21,
     "metadata": {},
     "output_type": "execute_result"
    }
   ],
   "source": [
    "my_series"
   ]
  },
  {
   "cell_type": "code",
   "execution_count": 22,
   "id": "24210070",
   "metadata": {},
   "outputs": [
    {
     "data": {
      "text/plain": [
       "30"
      ]
     },
     "execution_count": 22,
     "metadata": {},
     "output_type": "execute_result"
    }
   ],
   "source": [
    "my_series[\"Kirk\"]"
   ]
  },
  {
   "cell_type": "code",
   "execution_count": 23,
   "id": "912b5bdf",
   "metadata": {},
   "outputs": [],
   "source": [
    "my_series[\"Kirk\"] = 60"
   ]
  },
  {
   "cell_type": "code",
   "execution_count": 24,
   "id": "aa7a5030",
   "metadata": {},
   "outputs": [
    {
     "data": {
      "text/plain": [
       "James    10\n",
       "Lars     20\n",
       "Kirk     60\n",
       "Rob      40\n",
       "dtype: int32"
      ]
     },
     "execution_count": 24,
     "metadata": {},
     "output_type": "execute_result"
    }
   ],
   "source": [
    "my_series"
   ]
  },
  {
   "cell_type": "code",
   "execution_count": 25,
   "id": "d122aac0",
   "metadata": {},
   "outputs": [],
   "source": [
    "quiz_results1 = pd.Series(data=[70,60,100],index=[\"A\",\"B\",\"C\"]) "
   ]
  },
  {
   "cell_type": "code",
   "execution_count": 26,
   "id": "4b642b1d",
   "metadata": {},
   "outputs": [],
   "source": [
    "quiz_results2 = pd.Series(data=[80,30,50],index=[\"A\",\"B\",\"C\"]) "
   ]
  },
  {
   "cell_type": "code",
   "execution_count": 27,
   "id": "b5e73c87",
   "metadata": {},
   "outputs": [
    {
     "data": {
      "text/plain": [
       "A     70\n",
       "B     60\n",
       "C    100\n",
       "dtype: int64"
      ]
     },
     "execution_count": 27,
     "metadata": {},
     "output_type": "execute_result"
    }
   ],
   "source": [
    "quiz_results1"
   ]
  },
  {
   "cell_type": "code",
   "execution_count": 28,
   "id": "e48498c2",
   "metadata": {},
   "outputs": [
    {
     "data": {
      "text/plain": [
       "A    80\n",
       "B    30\n",
       "C    50\n",
       "dtype: int64"
      ]
     },
     "execution_count": 28,
     "metadata": {},
     "output_type": "execute_result"
    }
   ],
   "source": [
    "quiz_results2"
   ]
  },
  {
   "cell_type": "code",
   "execution_count": 29,
   "id": "d1696777",
   "metadata": {},
   "outputs": [
    {
     "data": {
      "text/plain": [
       "A    150\n",
       "B     90\n",
       "C    150\n",
       "dtype: int64"
      ]
     },
     "execution_count": 29,
     "metadata": {},
     "output_type": "execute_result"
    }
   ],
   "source": [
    "quiz_results1 + quiz_results2"
   ]
  },
  {
   "cell_type": "code",
   "execution_count": 30,
   "id": "a540c23b",
   "metadata": {},
   "outputs": [],
   "source": [
    "exam_results1 = pd.Series(data=[70,60,100],index=[\"A\",\"B\",\"C\"])\n",
    "exam_results2 = pd.Series(data=[80,30,50],index=[\"A\",\"D\",\"C\"]) "
   ]
  },
  {
   "cell_type": "code",
   "execution_count": 31,
   "id": "55211352",
   "metadata": {},
   "outputs": [
    {
     "data": {
      "text/plain": [
       "A    150.0\n",
       "B      NaN\n",
       "C    150.0\n",
       "D      NaN\n",
       "dtype: float64"
      ]
     },
     "execution_count": 31,
     "metadata": {},
     "output_type": "execute_result"
    }
   ],
   "source": [
    "exam_results1 + exam_results2"
   ]
  },
  {
   "cell_type": "code",
   "execution_count": null,
   "id": "ccebb460",
   "metadata": {},
   "outputs": [],
   "source": []
  }
 ],
 "metadata": {
  "kernelspec": {
   "display_name": "Python 3 (ipykernel)",
   "language": "python",
   "name": "python3"
  },
  "language_info": {
   "codemirror_mode": {
    "name": "ipython",
    "version": 3
   },
   "file_extension": ".py",
   "mimetype": "text/x-python",
   "name": "python",
   "nbconvert_exporter": "python",
   "pygments_lexer": "ipython3",
   "version": "3.10.9"
  }
 },
 "nbformat": 4,
 "nbformat_minor": 5
}
